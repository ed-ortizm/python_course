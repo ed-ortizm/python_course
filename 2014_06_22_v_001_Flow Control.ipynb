{
 "metadata": {
  "name": "",
  "signature": "sha256:7dbd234f66c943107c03ae6feedd4b78fcb04d673ce5b680489e4405c01bffd3"
 },
 "nbformat": 3,
 "nbformat_minor": 0,
 "worksheets": [
  {
   "cells": [
    {
     "cell_type": "heading",
     "level": 1,
     "metadata": {},
     "source": [
      "Flow Control"
     ]
    },
    {
     "cell_type": "markdown",
     "metadata": {},
     "source": [
      "So far we have studied just data structures and variables. Now we are going to introduce sequential flow programming and how to control this flow."
     ]
    },
    {
     "cell_type": "markdown",
     "metadata": {},
     "source": [
      "##Exercise:\n",
      "Create a variable which stores the value of celsius **$(c)$** degrees coming from a variable which stores fahrenheit degrees **$(f)$**. Print the value of **$c$** for **$f=32$** and **$f=212$**.\n",
      "\n",
      "The relation between **f** and **c** is given by :\n",
      "\n",
      "$$c=\\frac{5}{9}(f-32)$$"
     ]
    },
    {
     "cell_type": "code",
     "collapsed": false,
     "input": [
      "f = 0\n",
      "c = 0\n",
      "print 0"
     ],
     "language": "python",
     "metadata": {},
     "outputs": [
      {
       "output_type": "stream",
       "stream": "stdout",
       "text": [
        "0\n"
       ]
      }
     ],
     "prompt_number": 2
    },
    {
     "cell_type": "markdown",
     "metadata": {},
     "source": [
      "In sequential programming style you go step by step one way, the flow is always going on to the next instruction *(as shown bellow)*. The only thing we can modify in this flow is described in the diagram below, using flow control staments."
     ]
    },
    {
     "cell_type": "markdown",
     "metadata": {},
     "source": [
      "<img src=\"FlowControl.png\">"
     ]
    },
    {
     "cell_type": "markdown",
     "metadata": {},
     "source": [
      "##Conditional:\n",
      "As the diagram shows, the **decision** allow us to have a branching in the flow. This branching is achieved using the **if-else** stament. Let's see an example :"
     ]
    },
    {
     "cell_type": "code",
     "collapsed": false,
     "input": [
      "number = input('please, introduce a number : ')\n",
      "if number < 5 :\n",
      "    print 'The number is smaller than 5'\n",
      "else:\n",
      "    print 'The number is equal or greater than 5'"
     ],
     "language": "python",
     "metadata": {},
     "outputs": [
      {
       "name": "stdout",
       "output_type": "stream",
       "stream": "stdout",
       "text": [
        "please, introduce a number : 89\n"
       ]
      },
      {
       "output_type": "stream",
       "stream": "stdout",
       "text": [
        "The number is equal or greater than 5\n"
       ]
      }
     ],
     "prompt_number": 9
    },
    {
     "cell_type": "markdown",
     "metadata": {},
     "source": [
      "The **if-else** stament allows only two branches. **If** we want more branches we can use the **if-elif-elif-...-else** stament. Lets see an example : "
     ]
    },
    {
     "cell_type": "code",
     "collapsed": false,
     "input": [
      "choice = input('please, make a choice {1,2,what ever}')\n",
      "if choice == 1 :\n",
      "    print 'your choice is' , choice\n",
      "elif choice == 3 :\n",
      "    print 'your choice is' , choice\n",
      "else :\n",
      "    print 'your choice is' , choice"
     ],
     "language": "python",
     "metadata": {},
     "outputs": [
      {
       "name": "stdout",
       "output_type": "stream",
       "stream": "stdout",
       "text": [
        "please, make a choice {1,2,what ever}4\n"
       ]
      },
      {
       "output_type": "stream",
       "stream": "stdout",
       "text": [
        "your choice is 4\n"
       ]
      }
     ],
     "prompt_number": 11
    },
    {
     "cell_type": "markdown",
     "metadata": {},
     "source": [
      "## Exercise:\n",
      "Using conditionals, ask to the user the number of degrees to convert and if it is : \n",
      "* celsius $\\to$ fahrenheit\n",
      "* fahrenheit $\\to$ celsius\n"
     ]
    },
    {
     "cell_type": "markdown",
     "metadata": {},
     "source": [
      "## Loops:\n",
      "As the diagram shows, a loop is just a repetition of a step until one condition get false. In python we have:\n",
      "* **for** loops. \n",
      "* **while** loops. \n"
     ]
    },
    {
     "cell_type": "markdown",
     "metadata": {},
     "source": [
      "##Examples"
     ]
    },
    {
     "cell_type": "markdown",
     "metadata": {},
     "source": [
      "##for loops"
     ]
    },
    {
     "cell_type": "code",
     "collapsed": false,
     "input": [
      "rango_0_9 = range(10)\n",
      "print rango_0_9\n",
      "for i in rango_0_9:\n",
      "    print i"
     ],
     "language": "python",
     "metadata": {},
     "outputs": [
      {
       "output_type": "stream",
       "stream": "stdout",
       "text": [
        "[0, 1, 2, 3, 4, 5, 6, 7, 8, 9]\n",
        "0\n",
        "1\n",
        "2\n",
        "3\n",
        "4\n",
        "5\n",
        "6\n",
        "7\n",
        "8\n",
        "9\n"
       ]
      }
     ],
     "prompt_number": 22
    },
    {
     "cell_type": "markdown",
     "metadata": {},
     "source": [
      "##while loops\n"
     ]
    },
    {
     "cell_type": "code",
     "collapsed": false,
     "input": [
      "i = 0\n",
      "while i < 10 :\n",
      "    print i\n",
      "    i+=1"
     ],
     "language": "python",
     "metadata": {},
     "outputs": [
      {
       "output_type": "stream",
       "stream": "stdout",
       "text": [
        "0\n",
        "1\n",
        "2\n",
        "3\n",
        "4\n",
        "5\n",
        "6\n",
        "7\n",
        "8\n",
        "9\n"
       ]
      }
     ],
     "prompt_number": 23
    }
   ],
   "metadata": {}
  }
 ]
}