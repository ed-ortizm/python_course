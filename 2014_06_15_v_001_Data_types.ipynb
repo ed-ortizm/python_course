{
 "metadata": {
  "name": "",
  "signature": "sha256:8a25034caf06dc16ac6bee89133a7b8c14ca36af2c4bdf94979e2c15bab0d9f7"
 },
 "nbformat": 3,
 "nbformat_minor": 0,
 "worksheets": [
  {
   "cells": [
    {
     "cell_type": "heading",
     "level": 1,
     "metadata": {},
     "source": [
      "My First Programa in Python."
     ]
    },
    {
     "cell_type": "code",
     "collapsed": false,
     "input": [
      "# My first program is just printing printin hola mundo\n",
      "\n",
      "print \"Hola mundo\"\n",
      "\n",
      "#As we can see, it is like talking to python"
     ],
     "language": "python",
     "metadata": {},
     "outputs": [
      {
       "output_type": "stream",
       "stream": "stdout",
       "text": [
        "Hola mundo\n"
       ]
      }
     ],
     "prompt_number": 5
    },
    {
     "cell_type": "markdown",
     "metadata": {},
     "source": [
      "We see the simbol #, used to make comments an the code. It is useful for documenting the program, and make it more easy to maintain..."
     ]
    },
    {
     "cell_type": "heading",
     "level": 1,
     "metadata": {},
     "source": [
      "Introductory Course to Python"
     ]
    },
    {
     "cell_type": "heading",
     "level": 2,
     "metadata": {},
     "source": [
      "Data types:"
     ]
    },
    {
     "cell_type": "markdown",
     "metadata": {},
     "source": [
      "* int\n",
      "* float\n",
      "* String\n",
      "* Boolean\n",
      "* Tuples\n",
      "* List\n",
      "* Dictionaries\n",
      "* Sets"
     ]
    },
    {
     "cell_type": "heading",
     "level": 1,
     "metadata": {},
     "source": [
      "Numbers:"
     ]
    },
    {
     "cell_type": "markdown",
     "metadata": {},
     "source": [
      "Type int and float are just representations of real numbers. Let's see the next example :"
     ]
    },
    {
     "cell_type": "code",
     "collapsed": false,
     "input": [
      "print 0.1234567890123456789"
     ],
     "language": "python",
     "metadata": {},
     "outputs": [
      {
       "output_type": "stream",
       "stream": "stdout",
       "text": [
        "0.123456789012\n"
       ]
      }
     ],
     "prompt_number": 7
    },
    {
     "cell_type": "markdown",
     "metadata": {},
     "source": [
      "How I know the tipe of number I'm using : We can ask we the funtcion *Type*"
     ]
    },
    {
     "cell_type": "code",
     "collapsed": false,
     "input": [
      "print type(0.1)\n",
      "print type(1)"
     ],
     "language": "python",
     "metadata": {},
     "outputs": [
      {
       "output_type": "stream",
       "stream": "stdout",
       "text": [
        "<type 'float'>\n",
        "<type 'int'>\n"
       ]
      }
     ],
     "prompt_number": 13
    },
    {
     "cell_type": "markdown",
     "metadata": {},
     "source": [
      "We also have the functions **int()** and **float()** for going back and for between every represetation :\n"
     ]
    },
    {
     "cell_type": "code",
     "collapsed": false,
     "input": [
      "print 'el 1 es', type(1)\n",
      "print 'el', float(1), 'es', type(float(1))"
     ],
     "language": "python",
     "metadata": {},
     "outputs": [
      {
       "output_type": "stream",
       "stream": "stdout",
       "text": [
        "el 1 es <type 'int'>\n",
        "el 1.0 es <type 'float'>\n"
       ]
      }
     ],
     "prompt_number": 17
    },
    {
     "cell_type": "heading",
     "level": 2,
     "metadata": {},
     "source": [
      "Operation with Numbers"
     ]
    },
    {
     "cell_type": "markdown",
     "metadata": {},
     "source": [
      "* Addition $\\longrightarrow$ **+**\n",
      "* Substraction $\\longrightarrow$ **-**\n",
      "* Multiplication $\\longrightarrow$ ** * **\n",
      "* Division $\\longrightarrow$ **/**\n",
      "* Exponentiation $\\longrightarrow$ ** ** **\n",
      "* Module $\\longrightarrow$ **\\**"
     ]
    },
    {
     "cell_type": "raw",
     "metadata": {},
     "source": [
      "Every operation follows some rules :"
     ]
    },
    {
     "cell_type": "markdown",
     "metadata": {},
     "source": [
      "* int **op** int **$\\longrightarrow$** int\n",
      "* int **op** float **$\\longrightarrow$** float\n",
      "* float **op** float **$\\longrightarrow$** float"
     ]
    },
    {
     "cell_type": "code",
     "collapsed": false,
     "input": [
      "type(1+1),type(1/2)"
     ],
     "language": "python",
     "metadata": {},
     "outputs": [
      {
       "metadata": {},
       "output_type": "pyout",
       "prompt_number": 32,
       "text": [
        "(int, int)"
       ]
      }
     ],
     "prompt_number": 32
    },
    {
     "cell_type": "code",
     "collapsed": false,
     "input": [
      "type(1/2.0),type (1.0 +2.0)"
     ],
     "language": "python",
     "metadata": {},
     "outputs": [
      {
       "metadata": {},
       "output_type": "pyout",
       "prompt_number": 33,
       "text": [
        "(float, float)"
       ]
      }
     ],
     "prompt_number": 33
    },
    {
     "cell_type": "heading",
     "level": 2,
     "metadata": {},
     "source": [
      "Arithmetic Expressions"
     ]
    },
    {
     "cell_type": "code",
     "collapsed": false,
     "input": [
      "1+3*2**5-2/2.0"
     ],
     "language": "python",
     "metadata": {},
     "outputs": [
      {
       "metadata": {},
       "output_type": "pyout",
       "prompt_number": 34,
       "text": [
        "96.0"
       ]
      }
     ],
     "prompt_number": 34
    },
    {
     "cell_type": "markdown",
     "metadata": {},
     "source": [
      "#How python rules the operations in this expression ?#\n",
      "Well the key  worl is **Please Excuse My Dear Sally**\n",
      "* **Please** $\\longrightarrow$ ()\n",
      "* **Excuse** $\\longrightarrow$ ** ** **\n",
      "* **M** $\\longrightarrow$ ** * **\n",
      "* **Dear** $\\longrightarrow$ ** / **\n",
      "* **Sally** $\\longrightarrow$ **+,-**"
     ]
    },
    {
     "cell_type": "code",
     "collapsed": false,
     "input": [
      "print (2**5) "
     ],
     "language": "python",
     "metadata": {},
     "outputs": [
      {
       "output_type": "stream",
       "stream": "stdout",
       "text": [
        "32\n"
       ]
      }
     ],
     "prompt_number": 36
    },
    {
     "cell_type": "code",
     "collapsed": false,
     "input": [
      "print 32 * 3"
     ],
     "language": "python",
     "metadata": {},
     "outputs": [
      {
       "output_type": "stream",
       "stream": "stdout",
       "text": [
        "96\n"
       ]
      }
     ],
     "prompt_number": 37
    },
    {
     "cell_type": "code",
     "collapsed": false,
     "input": [
      "print 2/2.0"
     ],
     "language": "python",
     "metadata": {},
     "outputs": [
      {
       "output_type": "stream",
       "stream": "stdout",
       "text": [
        "1.0\n"
       ]
      }
     ],
     "prompt_number": 38
    },
    {
     "cell_type": "code",
     "collapsed": false,
     "input": [
      "print 1 + 96 -1.0"
     ],
     "language": "python",
     "metadata": {},
     "outputs": [
      {
       "output_type": "stream",
       "stream": "stdout",
       "text": [
        "96.0\n"
       ]
      }
     ],
     "prompt_number": 40
    },
    {
     "cell_type": "markdown",
     "metadata": {},
     "source": [
      "**We suggest the use of parenthesis**, we the aims of having a clean code."
     ]
    },
    {
     "cell_type": "heading",
     "level": 2,
     "metadata": {},
     "source": [
      "Quiz"
     ]
    },
    {
     "cell_type": "markdown",
     "metadata": {},
     "source": [
      "Guess the right answer and then use python to compute then following the rules of thumb given before:"
     ]
    },
    {
     "cell_type": "markdown",
     "metadata": {},
     "source": [
      "* 1 ** * ** 2 + 3 ** * **4\n",
      "* (1 ** * ** 2) + (3 ** * **4)\n",
      "* 1 ** * ** (2 + 3) ** * **4"
     ]
    },
    {
     "cell_type": "heading",
     "level": 1,
     "metadata": {},
     "source": [
      "Strings"
     ]
    },
    {
     "cell_type": "markdown",
     "metadata": {},
     "source": [
      "**\"Hola mundo\"** is a string. Strings must be between single or double quotes. if a number is between quotes, it is treated as a string.  Strings are indexed by sequential integers, starting with zero."
     ]
    },
    {
     "cell_type": "code",
     "collapsed": false,
     "input": [
      "print \"hola mundo\"\n",
      "print 'hola mundo'\n",
      "print type(\"hola mundo\")\n",
      "print type('0.1234567')"
     ],
     "language": "python",
     "metadata": {},
     "outputs": [
      {
       "output_type": "stream",
       "stream": "stdout",
       "text": [
        "hola mundo\n",
        "hola mundo\n",
        "<type 'str'>\n",
        "<type 'str'>\n"
       ]
      }
     ],
     "prompt_number": 52
    },
    {
     "cell_type": "heading",
     "level": 2,
     "metadata": {},
     "source": [
      "Operations with strings:"
     ]
    },
    {
     "cell_type": "markdown",
     "metadata": {},
     "source": [
      "In this case we are going to cover just some aspects:"
     ]
    },
    {
     "cell_type": "code",
     "collapsed": false,
     "input": [
      "print \"Hola\" + 'Mundo'\n",
      "print \"Hola \" + 'Mundo'\n",
      "print \"Hola\", 'Mundo'\n",
      "print \"Hola \\t Mundo\"\n",
      "print \"Hola Mundo \\n\"\n",
      "print \"Hi\""
     ],
     "language": "python",
     "metadata": {},
     "outputs": [
      {
       "output_type": "stream",
       "stream": "stdout",
       "text": [
        "HolaMundo\n",
        "Hola Mundo\n",
        "Hola Mundo\n",
        "Hola \t Mundo\n",
        "Hola Mundo \n",
        "\n",
        "Hi\n"
       ]
      }
     ],
     "prompt_number": 59
    },
    {
     "cell_type": "markdown",
     "metadata": {},
     "source": [
      "If a number is a string, it can be redefined as a number using int() an float() funtions :"
     ]
    },
    {
     "cell_type": "code",
     "collapsed": false,
     "input": [
      "print type('1.7')\n",
      "print type(float('1.7'))"
     ],
     "language": "python",
     "metadata": {},
     "outputs": [
      {
       "output_type": "stream",
       "stream": "stdout",
       "text": [
        "<type 'str'>\n",
        "<type 'float'>\n"
       ]
      }
     ],
     "prompt_number": 61
    },
    {
     "cell_type": "markdown",
     "metadata": {},
     "source": [
      "To know the lenght of a string we use the function **len()**:"
     ]
    },
    {
     "cell_type": "code",
     "collapsed": false,
     "input": [
      "print len('Hola mundo')"
     ],
     "language": "python",
     "metadata": {},
     "outputs": [
      {
       "output_type": "stream",
       "stream": "stdout",
       "text": [
        "10\n"
       ]
      }
     ],
     "prompt_number": 138
    },
    {
     "cell_type": "markdown",
     "metadata": {},
     "source": [
      "To have access to a string element we use the notation my_string[n]; where n is an integer from 0 to len(my_string)"
     ]
    },
    {
     "cell_type": "code",
     "collapsed": false,
     "input": [
      "print \"hola mundo\"[0]\n",
      "print \"hola mundo\"[1]\n",
      "print \"hola mundo\"[2]\n",
      "print \"hola mundo\"[3]"
     ],
     "language": "python",
     "metadata": {},
     "outputs": [
      {
       "output_type": "stream",
       "stream": "stdout",
       "text": [
        "h\n",
        "o\n",
        "l\n",
        "a\n"
       ]
      }
     ],
     "prompt_number": 156
    },
    {
     "cell_type": "markdown",
     "metadata": {},
     "source": [
      "We can also stract a string from a string using the notation my_string[m:n]; where m and n are integers **ranging from 0 to len(my_string)**."
     ]
    },
    {
     "cell_type": "code",
     "collapsed": false,
     "input": [
      "print \"hola mundo\"[0:4]\n",
      "print \"hola mundo\"[4:10]\n",
      "print \"hola mundo\"[5:10]"
     ],
     "language": "python",
     "metadata": {},
     "outputs": [
      {
       "output_type": "stream",
       "stream": "stdout",
       "text": [
        "hola\n",
        " mundo\n",
        "mundo\n"
       ]
      }
     ],
     "prompt_number": 155
    },
    {
     "cell_type": "heading",
     "level": 1,
     "metadata": {},
     "source": [
      "Boolean "
     ]
    },
    {
     "cell_type": "markdown",
     "metadata": {},
     "source": [
      "Boolean data type assume just two values:\n",
      "* True\n",
      "* False"
     ]
    },
    {
     "cell_type": "code",
     "collapsed": false,
     "input": [
      "print type(True)\n",
      "print type(False)"
     ],
     "language": "python",
     "metadata": {},
     "outputs": [
      {
       "output_type": "stream",
       "stream": "stdout",
       "text": [
        "<type 'bool'>\n",
        "<type 'bool'>\n"
       ]
      }
     ],
     "prompt_number": 64
    },
    {
     "cell_type": "markdown",
     "metadata": {},
     "source": [
      "Opereations between this data type :\n",
      "* operator **and**\n",
      "* operator **or**\n",
      "* operator **not**\n"
     ]
    },
    {
     "cell_type": "markdown",
     "metadata": {},
     "source": [
      "**and**"
     ]
    },
    {
     "cell_type": "code",
     "collapsed": false,
     "input": [
      "print True  and True\n",
      "print True  and False\n",
      "print False and False  "
     ],
     "language": "python",
     "metadata": {},
     "outputs": [
      {
       "output_type": "stream",
       "stream": "stdout",
       "text": [
        "True\n",
        "False\n",
        "False\n"
       ]
      }
     ],
     "prompt_number": 157
    },
    {
     "cell_type": "markdown",
     "metadata": {},
     "source": [
      "**or**"
     ]
    },
    {
     "cell_type": "code",
     "collapsed": false,
     "input": [
      "print True  or True\n",
      "print True  or False\n",
      "print False or False"
     ],
     "language": "python",
     "metadata": {},
     "outputs": [
      {
       "output_type": "stream",
       "stream": "stdout",
       "text": [
        "True\n",
        "True\n",
        "False\n"
       ]
      }
     ],
     "prompt_number": 66
    },
    {
     "cell_type": "markdown",
     "metadata": {},
     "source": [
      "**not**"
     ]
    },
    {
     "cell_type": "code",
     "collapsed": false,
     "input": [
      "print not (True)\n",
      "print not (False)"
     ],
     "language": "python",
     "metadata": {},
     "outputs": [
      {
       "output_type": "stream",
       "stream": "stdout",
       "text": [
        "False\n",
        "True\n"
       ]
      }
     ],
     "prompt_number": 70
    },
    {
     "cell_type": "heading",
     "level": 2,
     "metadata": {},
     "source": [
      "Aritmetic Expressions"
     ]
    },
    {
     "cell_type": "code",
     "collapsed": false,
     "input": [
      "print False and True or True"
     ],
     "language": "python",
     "metadata": {},
     "outputs": [
      {
       "output_type": "stream",
       "stream": "stdout",
       "text": [
        "True\n"
       ]
      }
     ],
     "prompt_number": 84
    },
    {
     "cell_type": "markdown",
     "metadata": {},
     "source": [
      "The output shows how the operator **and** has priority over the operator **or**.\n",
      "Step by step we can note it :"
     ]
    },
    {
     "cell_type": "markdown",
     "metadata": {},
     "source": [
      "* Considering **and** as the first option"
     ]
    },
    {
     "cell_type": "code",
     "collapsed": false,
     "input": [
      "print False and True"
     ],
     "language": "python",
     "metadata": {},
     "outputs": [
      {
       "output_type": "stream",
       "stream": "stdout",
       "text": [
        "False\n"
       ]
      }
     ],
     "prompt_number": 85
    },
    {
     "cell_type": "code",
     "collapsed": false,
     "input": [
      "print False or True"
     ],
     "language": "python",
     "metadata": {},
     "outputs": [
      {
       "output_type": "stream",
       "stream": "stdout",
       "text": [
        "True\n"
       ]
      }
     ],
     "prompt_number": 86
    },
    {
     "cell_type": "markdown",
     "metadata": {},
     "source": [
      "Bingo!! we've got the right answer. Now let's considere **or** as a firs option:"
     ]
    },
    {
     "cell_type": "code",
     "collapsed": false,
     "input": [
      "print True or True"
     ],
     "language": "python",
     "metadata": {},
     "outputs": [
      {
       "output_type": "stream",
       "stream": "stdout",
       "text": [
        "True\n"
       ]
      }
     ],
     "prompt_number": 87
    },
    {
     "cell_type": "code",
     "collapsed": false,
     "input": [
      "print False and True"
     ],
     "language": "python",
     "metadata": {},
     "outputs": [
      {
       "output_type": "stream",
       "stream": "stdout",
       "text": [
        "False\n"
       ]
      }
     ],
     "prompt_number": 88
    },
    {
     "cell_type": "markdown",
     "metadata": {},
     "source": [
      "As we can see, this is not the right answer. This order is related as the way programmers see **and** and **or** :\n",
      "* and $\\longrightarrow$ multiplication.\n",
      "* or  $\\longrightarrow $ adition"
     ]
    },
    {
     "cell_type": "markdown",
     "metadata": {},
     "source": [
      "**However, parenthesis are considered in first place. Let's consider the same exmaple:**"
     ]
    },
    {
     "cell_type": "code",
     "collapsed": false,
     "input": [
      "print (False and True) or True\n",
      "print False and (True or True)"
     ],
     "language": "python",
     "metadata": {},
     "outputs": [
      {
       "output_type": "stream",
       "stream": "stdout",
       "text": [
        "True\n",
        "False\n"
       ]
      }
     ],
     "prompt_number": 89
    },
    {
     "cell_type": "heading",
     "level": 2,
     "metadata": {},
     "source": [
      "Generating Boolean Values"
     ]
    },
    {
     "cell_type": "markdown",
     "metadata": {},
     "source": [
      "Boolean values are generated usin comparison operators :\n",
      "* **<** , **<=** : less than , less than  or equal to\n",
      "* **>** , **>=** : greater than, greater than or equal to\n",
      "* **==** : equal to"
     ]
    },
    {
     "cell_type": "markdown",
     "metadata": {},
     "source": [
      "**Examples**"
     ]
    },
    {
     "cell_type": "code",
     "collapsed": false,
     "input": [
      "print 2 < 3 , 2 <= 3"
     ],
     "language": "python",
     "metadata": {},
     "outputs": [
      {
       "output_type": "stream",
       "stream": "stdout",
       "text": [
        "True True\n"
       ]
      }
     ],
     "prompt_number": 94
    },
    {
     "cell_type": "code",
     "collapsed": false,
     "input": [
      "print 2 > 3 , 2 >= 3"
     ],
     "language": "python",
     "metadata": {},
     "outputs": [
      {
       "output_type": "stream",
       "stream": "stdout",
       "text": [
        "False False\n"
       ]
      }
     ],
     "prompt_number": 95
    },
    {
     "cell_type": "code",
     "collapsed": false,
     "input": [
      "print 2 < 2 , 2 <= 2"
     ],
     "language": "python",
     "metadata": {},
     "outputs": [
      {
       "output_type": "stream",
       "stream": "stdout",
       "text": [
        "False True\n"
       ]
      }
     ],
     "prompt_number": 98
    },
    {
     "cell_type": "code",
     "collapsed": false,
     "input": [
      "print 2 > 2 , 2 >= 2"
     ],
     "language": "python",
     "metadata": {},
     "outputs": [
      {
       "output_type": "stream",
       "stream": "stdout",
       "text": [
        "False True\n"
       ]
      }
     ],
     "prompt_number": 97
    },
    {
     "cell_type": "markdown",
     "metadata": {},
     "source": [
      "There is another way to generate **Boolean** types with the function **bool(argument)**. The number **0** an empty string **'  '** and not argument, are False values.\n",
      "The other data types are True. Let's see: "
     ]
    },
    {
     "cell_type": "code",
     "collapsed": false,
     "input": [
      "print bool() , bool('') , bool(0)"
     ],
     "language": "python",
     "metadata": {},
     "outputs": [
      {
       "output_type": "stream",
       "stream": "stdout",
       "text": [
        "False False False\n"
       ]
      }
     ],
     "prompt_number": 103
    },
    {
     "cell_type": "code",
     "collapsed": false,
     "input": [
      "print bool('0'),bool(1), bool(\"hola mundo\")"
     ],
     "language": "python",
     "metadata": {},
     "outputs": [
      {
       "output_type": "stream",
       "stream": "stdout",
       "text": [
        "True True True\n"
       ]
      }
     ],
     "prompt_number": 105
    },
    {
     "cell_type": "heading",
     "level": 1,
     "metadata": {},
     "source": [
      "Tuples"
     ]
    },
    {
     "cell_type": "markdown",
     "metadata": {},
     "source": [
      "Tuples are groups of things in some order. Once they are defined, they cannot be changed (like strings). The group of things inside a tuple may be any kind of data type, even more tuples.Tuples' elements as strings' elements are indexed  by sequential integers, starting with zero. A tuple is created using parenthesis; **(element_0,... )**: "
     ]
    },
    {
     "cell_type": "code",
     "collapsed": false,
     "input": [
      "my_tuple = ('a',1,\"Hola mundo\",(\"Hola\",\"mundo\"))\n",
      "print my_tuple\n",
      "print type(my_tuple)"
     ],
     "language": "python",
     "metadata": {},
     "outputs": [
      {
       "output_type": "stream",
       "stream": "stdout",
       "text": [
        "('a', 1, 'Hola mundo', ('Hola', 'mundo'))\n",
        "<type 'tuple'>\n"
       ]
      }
     ],
     "prompt_number": 160
    },
    {
     "cell_type": "markdown",
     "metadata": {},
     "source": [
      "We cand get elements of a tuple using the next pattern :"
     ]
    },
    {
     "cell_type": "code",
     "collapsed": false,
     "input": [
      "print my_tuple[2]\n",
      "print my_tuple[3][0], my_tuple[3][1]"
     ],
     "language": "python",
     "metadata": {},
     "outputs": [
      {
       "output_type": "stream",
       "stream": "stdout",
       "text": [
        "Hola mundo\n",
        "hola mundo\n"
       ]
      }
     ],
     "prompt_number": 122
    },
    {
     "cell_type": "markdown",
     "metadata": {},
     "source": [
      "As stated before, tuple elemets can not be changed :"
     ]
    },
    {
     "cell_type": "code",
     "collapsed": false,
     "input": [
      "my_tuple[2] = 'Nuevo mundo'"
     ],
     "language": "python",
     "metadata": {},
     "outputs": [
      {
       "ename": "TypeError",
       "evalue": "'tuple' object does not support item assignment",
       "output_type": "pyerr",
       "traceback": [
        "\u001b[1;31m---------------------------------------------------------------------------\u001b[0m\n\u001b[1;31mTypeError\u001b[0m                                 Traceback (most recent call last)",
        "\u001b[1;32m<ipython-input-128-5d2ea2f19a62>\u001b[0m in \u001b[0;36m<module>\u001b[1;34m()\u001b[0m\n\u001b[1;32m----> 1\u001b[1;33m \u001b[0mmy_tuple\u001b[0m\u001b[1;33m[\u001b[0m\u001b[1;36m2\u001b[0m\u001b[1;33m]\u001b[0m \u001b[1;33m=\u001b[0m \u001b[1;34m'Nuevo mundo'\u001b[0m\u001b[1;33m\u001b[0m\u001b[0m\n\u001b[0m",
        "\u001b[1;31mTypeError\u001b[0m: 'tuple' object does not support item assignment"
       ]
      }
     ],
     "prompt_number": 128
    },
    {
     "cell_type": "markdown",
     "metadata": {},
     "source": [
      "We can also generate tuples from strings using the function **tuple**:"
     ]
    },
    {
     "cell_type": "code",
     "collapsed": false,
     "input": [
      "print tuple(\"Hola mundo\")"
     ],
     "language": "python",
     "metadata": {},
     "outputs": [
      {
       "output_type": "stream",
       "stream": "stdout",
       "text": [
        "('H', 'o', 'l', 'a', ' ', 'm', 'u', 'n', 'd', 'o')\n"
       ]
      }
     ],
     "prompt_number": 127
    },
    {
     "cell_type": "markdown",
     "metadata": {},
     "source": [
      "To know te number of elements in a tuple we use the function **len(arg)**, as we did in strings :"
     ]
    },
    {
     "cell_type": "code",
     "collapsed": false,
     "input": [
      "print len(my_tuple)\n",
      "print len('hola mundo')\n",
      "print len(my_tuple[2])"
     ],
     "language": "python",
     "metadata": {},
     "outputs": [
      {
       "output_type": "stream",
       "stream": "stdout",
       "text": [
        "4\n",
        "10\n",
        "10\n"
       ]
      }
     ],
     "prompt_number": 133
    },
    {
     "cell_type": "markdown",
     "metadata": {},
     "source": [
      "As in strings, we can get tuples from tuples :"
     ]
    },
    {
     "cell_type": "code",
     "collapsed": false,
     "input": [
      "print my_tuple[0:2]\n",
      "print type(my_tuple[0:2])\n",
      "print my_tuple[0:3]\n",
      "print type(my_tuple[0:3])"
     ],
     "language": "python",
     "metadata": {},
     "outputs": [
      {
       "output_type": "stream",
       "stream": "stdout",
       "text": [
        "('a', 1)\n",
        "<type 'tuple'>\n",
        "('a', 1, 'Hola mundo')\n",
        "<type 'tuple'>\n"
       ]
      }
     ],
     "prompt_number": 172
    },
    {
     "cell_type": "heading",
     "level": 1,
     "metadata": {},
     "source": [
      "List"
     ]
    },
    {
     "cell_type": "markdown",
     "metadata": {},
     "source": [
      "A **list** is a sequence of different kinds of data. It differs from **Tuples**, because its elements can be changed. As in tuples, elements are indexed. A list is created using square brackets **[element_0,...]**."
     ]
    },
    {
     "cell_type": "code",
     "collapsed": false,
     "input": [
      "my_list = [\"hola mundo\",('hola','mundo'),['hola','mundo']]\n",
      "print my_list\n",
      "print type(my_list)"
     ],
     "language": "python",
     "metadata": {},
     "outputs": [
      {
       "output_type": "stream",
       "stream": "stdout",
       "text": [
        "['hola mundo', ('hola', 'mundo'), ['hola', 'mundo']]\n",
        "<type 'list'>\n"
       ]
      }
     ],
     "prompt_number": 162
    },
    {
     "cell_type": "markdown",
     "metadata": {},
     "source": [
      "As in tuples and strings, we can see every element of the list using the indexion property :"
     ]
    },
    {
     "cell_type": "code",
     "collapsed": false,
     "input": [
      "print my_list[0]\n",
      "print my_list[1][0],my_list[1][1]\n",
      "print my_list[2][0],my_list[2][1]"
     ],
     "language": "python",
     "metadata": {},
     "outputs": [
      {
       "output_type": "stream",
       "stream": "stdout",
       "text": [
        "hola mundo\n",
        "hola mundo\n",
        "hola mundo\n"
       ]
      }
     ],
     "prompt_number": 164
    },
    {
     "cell_type": "markdown",
     "metadata": {},
     "source": [
      "**Number of elements**"
     ]
    },
    {
     "cell_type": "code",
     "collapsed": false,
     "input": [
      "print len(my_list)\n",
      "print len(my_list[1])"
     ],
     "language": "python",
     "metadata": {},
     "outputs": [
      {
       "output_type": "stream",
       "stream": "stdout",
       "text": [
        "3\n",
        "2\n"
       ]
      }
     ],
     "prompt_number": 166
    },
    {
     "cell_type": "markdown",
     "metadata": {},
     "source": [
      "**Lists from a list**"
     ]
    },
    {
     "cell_type": "code",
     "collapsed": false,
     "input": [
      "print my_list[1:2]\n",
      "print type(my_list[1:2])"
     ],
     "language": "python",
     "metadata": {},
     "outputs": [
      {
       "output_type": "stream",
       "stream": "stdout",
       "text": [
        "[('hola', 'mundo')]\n",
        "<type 'list'>\n"
       ]
      }
     ],
     "prompt_number": 169
    },
    {
     "cell_type": "markdown",
     "metadata": {},
     "source": [
      "**Changin elements**"
     ]
    },
    {
     "cell_type": "code",
     "collapsed": false,
     "input": [
      "my_list[2][0] = 'hi'\n",
      "my_list[2][1] = 'world'\n",
      "print my_list[2][0] , my_list[2][1]"
     ],
     "language": "python",
     "metadata": {},
     "outputs": [
      {
       "output_type": "stream",
       "stream": "stdout",
       "text": [
        "hi world\n"
       ]
      }
     ],
     "prompt_number": 177
    },
    {
     "cell_type": "heading",
     "level": 1,
     "metadata": {},
     "source": [
      "Dictionaries"
     ]
    },
    {
     "cell_type": "markdown",
     "metadata": {},
     "source": [
      "**Dictionaries** are a sequence of differen data types, indexed by keys. The sintax for creating a dictionary is : {key_1 :element_1... }"
     ]
    },
    {
     "cell_type": "code",
     "collapsed": false,
     "input": [
      "my_dictionary = {'a': \"Hola mundo\",'b':['hola','mundo'], 'c':('hola','mundo') }\n",
      "print my_dictionary"
     ],
     "language": "python",
     "metadata": {},
     "outputs": [
      {
       "output_type": "stream",
       "stream": "stdout",
       "text": [
        "{'a': 'Hola mundo', 'c': ('hola', 'mundo'), 'b': ['hola', 'mundo']}\n"
       ]
      }
     ],
     "prompt_number": 173
    },
    {
     "cell_type": "markdown",
     "metadata": {},
     "source": [
      "to **recover** an element we use the keys :"
     ]
    },
    {
     "cell_type": "code",
     "collapsed": false,
     "input": [
      "print my_dictionary['a']\n",
      "print my_dictionary['b'][0] , my_dictionary['b'][1]\n",
      "print my_dictionary['c'][0] , my_dictionary['c'][1]"
     ],
     "language": "python",
     "metadata": {},
     "outputs": [
      {
       "output_type": "stream",
       "stream": "stdout",
       "text": [
        "Hola mundo\n",
        "hola mundo\n",
        "hola mundo\n"
       ]
      }
     ],
     "prompt_number": 175
    },
    {
     "cell_type": "markdown",
     "metadata": {},
     "source": [
      "**Changing elements:** in this case we use the keys:"
     ]
    },
    {
     "cell_type": "code",
     "collapsed": false,
     "input": [
      "my_dictionary['b'][0] = 'hi'\n",
      "my_dictionary['b'][1] = 'world'\n",
      "print my_dictionary['b'][0], my_dictionary['b'][1]"
     ],
     "language": "python",
     "metadata": {},
     "outputs": [
      {
       "output_type": "stream",
       "stream": "stdout",
       "text": [
        "hi world\n"
       ]
      }
     ],
     "prompt_number": 183
    },
    {
     "cell_type": "heading",
     "level": 1,
     "metadata": {},
     "source": [
      "Sets"
     ]
    },
    {
     "cell_type": "markdown",
     "metadata": {},
     "source": [
      "a **set** is like a **dictionary** but there are not equal items. To construct a set we just use **the function set()**"
     ]
    },
    {
     "cell_type": "code",
     "collapsed": false,
     "input": [
      "my_ls = [1,1,1,1,2,2,2,3,3,3,4,4,4,5,5,5]\n",
      "my_set = set(my_ls)\n",
      "print my_set\n",
      "print type(my_set)"
     ],
     "language": "python",
     "metadata": {},
     "outputs": [
      {
       "output_type": "stream",
       "stream": "stdout",
       "text": [
        "set([1, 2, 3, 4, 5])\n",
        "<type 'set'>\n"
       ]
      }
     ],
     "prompt_number": 188
    },
    {
     "cell_type": "markdown",
     "metadata": {},
     "source": [
      "Sets do not support indexing:"
     ]
    },
    {
     "cell_type": "code",
     "collapsed": false,
     "input": [
      "print my_set[1]"
     ],
     "language": "python",
     "metadata": {},
     "outputs": [
      {
       "ename": "TypeError",
       "evalue": "'set' object does not support indexing",
       "output_type": "pyerr",
       "traceback": [
        "\u001b[1;31m---------------------------------------------------------------------------\u001b[0m\n\u001b[1;31mTypeError\u001b[0m                                 Traceback (most recent call last)",
        "\u001b[1;32m<ipython-input-189-0f95ca58ef4a>\u001b[0m in \u001b[0;36m<module>\u001b[1;34m()\u001b[0m\n\u001b[1;32m----> 1\u001b[1;33m \u001b[1;32mprint\u001b[0m \u001b[0mmy_set\u001b[0m\u001b[1;33m[\u001b[0m\u001b[1;36m1\u001b[0m\u001b[1;33m]\u001b[0m\u001b[1;33m\u001b[0m\u001b[0m\n\u001b[0m",
        "\u001b[1;31mTypeError\u001b[0m: 'set' object does not support indexing"
       ]
      }
     ],
     "prompt_number": 189
    },
    {
     "cell_type": "markdown",
     "metadata": {},
     "source": [
      "Well this is all for the moment **;)**"
     ]
    }
   ],
   "metadata": {}
  }
 ]
}