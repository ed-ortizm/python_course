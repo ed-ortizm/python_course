{
 "metadata": {
  "name": "",
  "signature": "sha256:c698708f0094640c1dacffb89f430b6dd7200bfd1c19f04a8d01bbdc0e738efe"
 },
 "nbformat": 3,
 "nbformat_minor": 0,
 "worksheets": [
  {
   "cells": [
    {
     "cell_type": "heading",
     "level": 1,
     "metadata": {},
     "source": [
      "Variables"
     ]
    },
    {
     "cell_type": "markdown",
     "metadata": {},
     "source": [
      "**Variables** are objects storing information, as we saw previously with :\n",
      "* my_tuple\n",
      "* my_list"
     ]
    },
    {
     "cell_type": "markdown",
     "metadata": {},
     "source": [
      "Creating a variable is very easy, we use the assignment operator **=**. This operator puts the thing to the right in a memory block labeled by the variable's name. "
     ]
    },
    {
     "cell_type": "code",
     "collapsed": false,
     "input": [
      "variable = 7\n",
      "print variable"
     ],
     "language": "python",
     "metadata": {},
     "outputs": [
      {
       "output_type": "stream",
       "stream": "stdout",
       "text": [
        "7\n"
       ]
      }
     ],
     "prompt_number": 1
    },
    {
     "cell_type": "markdown",
     "metadata": {},
     "source": [
      "# Rules for naming variables:"
     ]
    },
    {
     "cell_type": "markdown",
     "metadata": {},
     "source": [
      "**Variable's names** are allowed in python if the name begins with a letter or an underscore."
     ]
    },
    {
     "cell_type": "code",
     "collapsed": false,
     "input": [
      "_variable = \"hola mundo\"\n",
      "_ = \"hola mundo\"\n",
      "variable = \"hola mundo\""
     ],
     "language": "python",
     "metadata": {},
     "outputs": [],
     "prompt_number": 2
    },
    {
     "cell_type": "code",
     "collapsed": false,
     "input": [
      "print _variable\n",
      "print _\n",
      "print variable"
     ],
     "language": "python",
     "metadata": {},
     "outputs": [
      {
       "output_type": "stream",
       "stream": "stdout",
       "text": [
        "hola mundo\n",
        "hola mundo\n",
        "hola mundo\n"
       ]
      }
     ],
     "prompt_number": 3
    },
    {
     "cell_type": "markdown",
     "metadata": {},
     "source": [
      "# Variables and machine memory :"
     ]
    },
    {
     "cell_type": "markdown",
     "metadata": {},
     "source": [
      "When we create a variable, we put a value in some place of the computer's memory. This place is labeled with the variable's name."
     ]
    },
    {
     "cell_type": "markdown",
     "metadata": {},
     "source": [
      "<img src=\"variables_memory_assignment.png\">"
     ]
    }
   ],
   "metadata": {}
  }
 ]
}